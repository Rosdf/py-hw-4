{
 "cells": [
  {
   "cell_type": "code",
   "execution_count": 3,
   "metadata": {},
   "outputs": [
    {
     "name": "stdout",
     "output_type": "stream",
     "text": [
      "{98, 35, 213, 54, 119, 15}\n"
     ]
    }
   ],
   "source": [
    "#задание 1\n",
    "ids = {\"user1\": [213, 213, 213, 15, 213],\n",
    "\"user2\": [54, 54, 119, 119, 119],\n",
    "\"user3\": [213, 98, 98, 35]}\n",
    "places = set()\n",
    "for value in ids.values():\n",
    "    places |= set(value)\n",
    "print(places)"
   ]
  },
  {
   "cell_type": "code",
   "execution_count": 9,
   "metadata": {},
   "outputs": [
    {
     "name": "stdout",
     "output_type": "stream",
     "text": [
      "Поисковых запросов, содержащих 2 слов(а): 42.86 %\n",
      "Поисковых запросов, содержащих 3 слов(а): 57.14 %\n"
     ]
    }
   ],
   "source": [
    "#задание 2\n",
    "queries = [\n",
    "\"смотреть сериалы онлайн\",\n",
    "\"новости спорта\",\n",
    "\"афиша кино\",\n",
    "\"курс доллара\",\n",
    "\"сериалы этим летом\",\n",
    "\"курс по питону\",\n",
    "\"сериалы про спорт\"\n",
    "]\n",
    "stat = {}\n",
    "for request in queries:\n",
    "    n = len(request.split(\" \"))\n",
    "    if n in stat:\n",
    "        stat[n] += 1\n",
    "    else:\n",
    "        stat[n] = 1\n",
    "S = sum(stat.values())\n",
    "number_of_words = list(stat.keys())\n",
    "number_of_words = sorted(number_of_words)\n",
    "for number in number_of_words:\n",
    "    print(\"Поисковых запросов, содержащих\", number, \"слов(а):\", round(stat[number] / S * 100, 2), \"%\")\n",
    "    "
   ]
  },
  {
   "cell_type": "code",
   "execution_count": 11,
   "metadata": {},
   "outputs": [
    {
     "data": {
      "text/plain": [
       "{'vk': {'revenue': 103, 'cost': 98, 'ROI': 5.1},\n",
       " 'yandex': {'revenue': 179, 'cost': 153, 'ROI': 16.99},\n",
       " 'facebook': {'revenue': 103, 'cost': 110, 'ROI': -6.36},\n",
       " 'adwords': {'revenue': 35, 'cost': 34, 'ROI': 2.94},\n",
       " 'twitter': {'revenue': 11, 'cost': 24, 'ROI': -54.17}}"
      ]
     },
     "execution_count": 11,
     "metadata": {},
     "output_type": "execute_result"
    }
   ],
   "source": [
    "#задание 3\n",
    "results = {\n",
    "\"vk\": {\"revenue\": 103, \"cost\": 98},\n",
    "\"yandex\": {\"revenue\": 179, \"cost\": 153},\n",
    "\"facebook\": {\"revenue\": 103, \"cost\": 110},\n",
    "\"adwords\": {\"revenue\": 35, \"cost\": 34},\n",
    "\"twitter\": {\"revenue\": 11, \"cost\": 24},\n",
    "}\n",
    "for value in results.values():\n",
    "    value[\"ROI\"] = round((value[\"revenue\"] / value[\"cost\"] - 1) * 100, 2)\n",
    "results"
   ]
  },
  {
   "cell_type": "code",
   "execution_count": 19,
   "metadata": {},
   "outputs": [
    {
     "name": "stdout",
     "output_type": "stream",
     "text": [
      "Максимальный объем продаж на рекламном канале(ах): yandex, vk\n"
     ]
    }
   ],
   "source": [
    "#задание 4\n",
    "stats = {\"facebook\": 55, \"yandex\": 120, \"vk\": 120, \"google\": 99, \"email\": 42, \"ok\": 98}\n",
    "maximum = max(stats.values())\n",
    "max_list = []\n",
    "for key in stats.keys():\n",
    "    if stats[key] == maximum:\n",
    "        max_list.append(key)\n",
    "print(\"Максимальный объем продаж на рекламном канале(ах): \", end = \"\")\n",
    "print(*max_list, sep = \", \")"
   ]
  },
  {
   "cell_type": "code",
   "execution_count": 12,
   "metadata": {},
   "outputs": [
    {
     "data": {
      "text/plain": [
       "{'a': {'b': {'c': {'d': {'e': 'f'}}}}}"
      ]
     },
     "execution_count": 12,
     "metadata": {},
     "output_type": "execute_result"
    }
   ],
   "source": [
    "#задание 5\n",
    "def DictionaryFormer(di, li):\n",
    "    if bool(di):\n",
    "        tmp = di.copy()\n",
    "        di.clear()\n",
    "        di[li[-1]] = tmp\n",
    "        if len(li) != 1:\n",
    "            DictionaryFormer(di, li[:-1])\n",
    "    else:\n",
    "        di[li[-2]] = li[-1]\n",
    "        if len(li) > 2:\n",
    "            DictionaryFormer(di, li[:-2])\n",
    "\n",
    "my_list = [\"a\", \"b\", \"c\", \"d\", \"e\", \"f\"]\n",
    "final = {}\n",
    "if len(my_list) > 1:\n",
    "    DictionaryFormer(final, my_list)\n",
    "final"
   ]
  },
  {
   "cell_type": "code",
   "execution_count": 3,
   "metadata": {},
   "outputs": [
    {
     "name": "stdout",
     "output_type": "stream",
     "text": [
      "Введите количество порций:\n",
      "1\n",
      "сыр: 70 гр\n",
      "томаты: 2 шт\n",
      "томаты: 20 гр\n",
      "огурцы: 20 гр\n",
      "маслины: 10 гр\n",
      "оливковое масло: 20 мл\n",
      "салат: 10 гр\n",
      "перец: 20 гр\n",
      "колбаса: 30 гр\n",
      "бекон: 30 гр\n",
      "оливки: 10 гр\n",
      "тесто: 100 гр\n",
      "лимон: 1 шт\n",
      "вода: 200 мл\n",
      "сахар: 10 гр\n",
      "лайм: 20 гр\n"
     ]
    }
   ],
   "source": [
    "#задание 6\n",
    "cook_book = {\n",
    "\"салат\": [\n",
    "{\"ingridient_name\": \"сыр\", \"quantity\": 50, \"measure\": \"гр\"},\n",
    "{\"ingridient_name\": \"томаты\", \"quantity\": 2, \"measure\": \"шт\"},\n",
    "{\"ingridient_name\": \"огурцы\", \"quantity\": 20, \"measure\": \"гр\"},\n",
    "{\"ingridient_name\": \"маслины\", \"quantity\": 10, \"measure\": \"гр\"},\n",
    "{\"ingridient_name\": \"оливковое масло\", \"quantity\": 20, \"measure\": \"мл\"},\n",
    "{\"ingridient_name\": \"салат\", \"quantity\": 10, \"measure\": \"гр\"},\n",
    "{\"ingridient_name\": \"перец\", \"quantity\": 20, \"measure\": \"гр\"}\n",
    "],\n",
    "\"пицца\": [\n",
    "{\"ingridient_name\": \"сыр\", \"quantity\": 20, \"measure\": \"гр\"},\n",
    "{\"ingridient_name\": \"колбаса\", \"quantity\": 30, \"measure\": \"гр\"},\n",
    "{\"ingridient_name\": \"бекон\", \"quantity\": 30, \"measure\": \"гр\"},\n",
    "{\"ingridient_name\": \"оливки\", \"quantity\": 10, \"measure\": \"гр\"},\n",
    "{\"ingridient_name\": \"томаты\", \"quantity\": 20, \"measure\": \"гр\"},\n",
    "{\"ingridient_name\": \"тесто\", \"quantity\": 100, \"measure\": \"гр\"},\n",
    "],\n",
    "\"лимонад\": [\n",
    "{\"ingridient_name\": \"лимон\", \"quantity\": 1, \"measure\": \"шт\"},\n",
    "{\"ingridient_name\": \"вода\", \"quantity\": 200, \"measure\": \"мл\"},\n",
    "{\"ingridient_name\": \"сахар\", \"quantity\": 10, \"measure\": \"гр\"},\n",
    "{\"ingridient_name\": \"лайм\", \"quantity\": 20, \"measure\": \"гр\"},\n",
    "]\n",
    "}\n",
    "print(\"Введите количество порций:\")\n",
    "n = int(input())\n",
    "ingridients = {}\n",
    "for dish in cook_book.values():\n",
    "    for ingridient in dish:\n",
    "        if ingridient[\"ingridient_name\"] in ingridients:\n",
    "            if ingridient[\"measure\"] in ingridients[ingridient[\"ingridient_name\"]]:\n",
    "                ingridients[ingridient[\"ingridient_name\"]][ingridient[\"measure\"]] += n * ingridient[\"quantity\"]\n",
    "            else:\n",
    "                ingridients[ingridient[\"ingridient_name\"]][ingridient[\"measure\"]] = n * ingridient[\"quantity\"]\n",
    "        else:\n",
    "            ingridients[ingridient[\"ingridient_name\"]] = {ingridient[\"measure\"]: n * ingridient[\"quantity\"]}\n",
    "for ingridient, value in ingridients.items():\n",
    "    for mesure, quantity in value.items():\n",
    "        print(f\"{ingridient}:\", quantity, mesure)"
   ]
  }
 ],
 "metadata": {
  "kernelspec": {
   "display_name": "Python 3",
   "language": "python",
   "name": "python3"
  },
  "language_info": {
   "codemirror_mode": {
    "name": "ipython",
    "version": 3
   },
   "file_extension": ".py",
   "mimetype": "text/x-python",
   "name": "python",
   "nbconvert_exporter": "python",
   "pygments_lexer": "ipython3",
   "version": "3.8.5"
  }
 },
 "nbformat": 4,
 "nbformat_minor": 4
}
